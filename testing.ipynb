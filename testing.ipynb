{
 "cells": [
  {
   "cell_type": "code",
   "execution_count": 10,
   "metadata": {},
   "outputs": [],
   "source": [
    "from langchain_groq import ChatGroq\n",
    "from langchain_community.document_loaders import PyPDFLoader, DirectoryLoader\n",
    "# from langchain_huggingface import HuggingFaceEmbeddings\n",
    "from langchain.embeddings import HuggingFaceEmbeddings\n",
    "from langchain.text_splitter import RecursiveCharacterTextSplitter\n",
    "from pinecone import ServerlessSpec\n",
    "from pinecone.grpc import PineconeGRPC as pinecone"
   ]
  },
  {
   "cell_type": "code",
   "execution_count": 11,
   "metadata": {},
   "outputs": [],
   "source": [
    "def pdf_loader(path):\n",
    "    loader = DirectoryLoader(path, glob=\"*.pdf\", loader_cls= PyPDFLoader)\n",
    "    pages = loader.load()\n",
    "    return pages"
   ]
  },
  {
   "cell_type": "code",
   "execution_count": 12,
   "metadata": {},
   "outputs": [],
   "source": [
    "pages = pdf_loader(r\"data/\")"
   ]
  },
  {
   "cell_type": "code",
   "execution_count": 13,
   "metadata": {},
   "outputs": [],
   "source": [
    "def text_splitter(text):\n",
    "    text_splitter = RecursiveCharacterTextSplitter(chunk_size=500, chunk_overlap=50)\n",
    "    text_chunks = text_splitter.split_documents(text)\n",
    "    return text_chunks"
   ]
  },
  {
   "cell_type": "code",
   "execution_count": 14,
   "metadata": {},
   "outputs": [
    {
     "data": {
      "text/plain": [
       "7079"
      ]
     },
     "execution_count": 14,
     "metadata": {},
     "output_type": "execute_result"
    }
   ],
   "source": [
    "text_chunks = text_splitter(pages)\n",
    "len(text_chunks)"
   ]
  },
  {
   "cell_type": "code",
   "execution_count": 16,
   "metadata": {},
   "outputs": [],
   "source": [
    "def get_embedding():\n",
    "  embedding = HuggingFaceEmbeddings(model_name='sentence-transformers/all-MiniLM-L6-v2')\n",
    "  return embedding"
   ]
  },
  {
   "cell_type": "code",
   "execution_count": 17,
   "metadata": {},
   "outputs": [
    {
     "name": "stderr",
     "output_type": "stream",
     "text": [
      "C:\\Users\\SAMANWAYA\\AppData\\Local\\Temp\\ipykernel_11620\\952409544.py:2: LangChainDeprecationWarning: The class `HuggingFaceEmbeddings` was deprecated in LangChain 0.2.2 and will be removed in 1.0. An updated version of the class exists in the :class:`~langchain-huggingface package and should be used instead. To use it run `pip install -U :class:`~langchain-huggingface` and import as `from :class:`~langchain_huggingface import HuggingFaceEmbeddings``.\n",
      "  embedding = HuggingFaceEmbeddings(model_name='sentence-transformers/all-MiniLM-L6-v2')\n"
     ]
    },
    {
     "data": {
      "text/plain": [
       "384"
      ]
     },
     "execution_count": 17,
     "metadata": {},
     "output_type": "execute_result"
    }
   ],
   "source": [
    "embedding = get_embedding()\n",
    "query_result = embedding.embed_query(\"Hello, how are you?\")\n",
    "len(query_result)\n"
   ]
  },
  {
   "cell_type": "code",
   "execution_count": 19,
   "metadata": {},
   "outputs": [],
   "source": [
    "from dotenv import load_dotenv\n",
    "import os\n",
    "\n",
    "load_dotenv()\n",
    "\n",
    "PINECONE_API_KEY = os.getenv(\"PINECONE_API_KEY\")\n",
    "os.environ[\"PINECONE_API_KEY\"] = PINECONE_API_KEY"
   ]
  },
  {
   "cell_type": "code",
   "execution_count": 22,
   "metadata": {},
   "outputs": [],
   "source": [
    "pc = pinecone(PINECONE_API_KEY)\n",
    "index_name = \"medicalchatbot\"\n",
    "pc.create_index(name=index_name,\n",
    "                dimension=384,\n",
    "                metric=\"cosine\",\n",
    "                spec=ServerlessSpec(cloud=\"aws\", region=\"us-east-1\"))"
   ]
  },
  {
   "cell_type": "code",
   "execution_count": 20,
   "metadata": {},
   "outputs": [],
   "source": [
    "from langchain_pinecone import PineconeVectorStore"
   ]
  },
  {
   "cell_type": "code",
   "execution_count": 23,
   "metadata": {},
   "outputs": [],
   "source": [
    "docserach = PineconeVectorStore.from_documents(documents=text_chunks, embedding=embedding, index_name=\"medicalchatbot\")\n"
   ]
  },
  {
   "cell_type": "code",
   "execution_count": 21,
   "metadata": {},
   "outputs": [
    {
     "data": {
      "text/plain": [
       "<langchain_pinecone.vectorstores.PineconeVectorStore at 0x1597a0ee2d0>"
      ]
     },
     "execution_count": 21,
     "metadata": {},
     "output_type": "execute_result"
    }
   ],
   "source": [
    "docs = PineconeVectorStore.from_existing_index(index_name=\"medicalchatbot\", embedding=embedding)\n",
    "docs"
   ]
  },
  {
   "cell_type": "code",
   "execution_count": 22,
   "metadata": {},
   "outputs": [
    {
     "data": {
      "text/plain": [
       "[Document(id='545534f3-b670-4358-8904-6e6403323495', metadata={'page': 213.0, 'source': 'data\\\\The_GALE_ENCYCLOPEDIA_of_MEDICINE_SECOND.pdf'}, page_content='occur over the course of a day.\\nMigraine headache—An intense throbbing pain\\nthat occurs on one or both sides of the head. The\\nheadache is usually accompanied by other symp-\\ntoms, such as nausea, vomiting, and aversion to\\nlight.\\nProphylactic—Referring to treatment that prevents\\nsymptoms from occurring.\\nTension-type headache—A dull pain that seems to\\nexert pressure on the head; the most common\\nform of headache.\\nsumatriptan injection, and application of local anesthet-'),\n",
       " Document(id='f201d281-cb20-40cd-a7bf-14c644233021', metadata={'page': 213.0, 'source': 'data\\\\The_GALE_ENCYCLOPEDIA_of_MEDICINE_SECOND.pdf'}, page_content='occur over the course of a day.\\nMigraine headache—An intense throbbing pain\\nthat occurs on one or both sides of the head. The\\nheadache is usually accompanied by other symp-\\ntoms, such as nausea, vomiting, and aversion to\\nlight.\\nProphylactic—Referring to treatment that prevents\\nsymptoms from occurring.\\nTension-type headache—A dull pain that seems to\\nexert pressure on the head; the most common\\nform of headache.\\nsumatriptan injection, and application of local anesthet-'),\n",
       " Document(id='affeb537-97cf-47cd-af6e-2b68708c340b', metadata={'page': 213.0, 'source': 'data\\\\The_GALE_ENCYCLOPEDIA_of_MEDICINE_SECOND.pdf'}, page_content='GALE ENCYCLOPEDIA OF MEDICINE 2\\n825\\nCluster headache\\nCluster Headache\\nAreas of pain\\nNerves\\nThe primary cluster headache symptom is excruciating one-\\nsided head pain located behind an eye or near the temple.\\nSecondary symptoms include eye tearing, nasal congestion,\\nand a runny nose.\\n(Illustration by Electronic Illustrators Group.)')]"
      ]
     },
     "execution_count": 22,
     "metadata": {},
     "output_type": "execute_result"
    }
   ],
   "source": [
    "retriver = docs.as_retriever(search_type=\"similarity\", search_kwargs={\"k\": 3})\n",
    "output = retriver.invoke(\"What is Headache?\")\n",
    "output"
   ]
  },
  {
   "cell_type": "code",
   "execution_count": 23,
   "metadata": {},
   "outputs": [],
   "source": [
    "import os\n",
    "GROQ_API_KEY= os.getenv(\"GROQ_API_KEY\")\n",
    "os.environ[\"GROQ_API_KEY\"] = GROQ_API_KEY\n",
    "llm = ChatGroq(temperature=0.6, max_tokens=500)"
   ]
  },
  {
   "cell_type": "code",
   "execution_count": 24,
   "metadata": {},
   "outputs": [],
   "source": [
    "from langchain.chains import create_retrieval_chain\n",
    "from langchain.chains.combine_documents import create_stuff_documents_chain\n",
    "from langchain.prompts import ChatPromptTemplate"
   ]
  },
  {
   "cell_type": "code",
   "execution_count": 25,
   "metadata": {},
   "outputs": [],
   "source": [
    "system_prompt = (\n",
    "\"You are an expert medical assistat of qestion-answering tasks.\"\n",
    "\"Use the following pieces of retrieved context to answer \"\n",
    "\"the question. If you don't find any related context then say that you \"\n",
    "\"don't know. Do not give any halusinating answer of this. Use the three sentece maximum and keep the \"\n",
    "\"answer concise.\"\n",
    "\"\\n\\n\"\n",
    "\"{context}\"\n",
    " )\n",
    "\n",
    "chat_prompt = ChatPromptTemplate.from_messages([\n",
    "  (\"system\", system_prompt),\n",
    "  (\"user\", \"{input}\" )]\n",
    ")"
   ]
  },
  {
   "cell_type": "code",
   "execution_count": 132,
   "metadata": {},
   "outputs": [],
   "source": [
    "stuff_chain =create_stuff_documents_chain(llm, chat_prompt)\n",
    "retriver_chain = create_retrieval_chain(retriver, stuff_chain)\n",
    "question = \"What is Dental trauma?\"\n",
    "response_dict = retriver_chain.invoke({\"input\" : question})\n",
    "response = response_dict[\"answer\"] if isinstance(response_dict, dict) else str(response_dict)\n",
    "# print(response[\"answer\"])"
   ]
  },
  {
   "cell_type": "code",
   "execution_count": 133,
   "metadata": {},
   "outputs": [],
   "source": [
    "from langchain_core.messages import HumanMessage, AIMessage\n",
    "chat_history = []\n",
    "chat_history.extend([\n",
    "  HumanMessage(content=question),\n",
    "  AIMessage(content=response)\n",
    "])"
   ]
  },
  {
   "cell_type": "code",
   "execution_count": 134,
   "metadata": {},
   "outputs": [
    {
     "data": {
      "text/plain": [
       "[HumanMessage(content='What is Dental trauma?', additional_kwargs={}, response_metadata={}),\n",
       " AIMessage(content='Dental trauma is injury to the mouth, including teeth, lips, gums, tongue, and jawbones, often caused by contact sports, accidents, or mishaps. It typically results in painful oral tissue damage and requires prompt treatment by a dentist.', additional_kwargs={}, response_metadata={})]"
      ]
     },
     "execution_count": 134,
     "metadata": {},
     "output_type": "execute_result"
    }
   ],
   "source": [
    "chat_history"
   ]
  },
  {
   "cell_type": "code",
   "execution_count": 136,
   "metadata": {},
   "outputs": [],
   "source": [
    "from langchain_core.prompts import MessagesPlaceholder\n",
    "contextualize_system_prompt = (\n",
    "  \"Given a chat history and latest user question \"\n",
    "  \"which might reference context in the chat history, \"\n",
    "  \"formulates a standalone question which can be understood \"\n",
    "  \"without the chat history. Do not answer the question, \"\n",
    "  \"just reformulate it if needed otherwise retuen as it is\"\n",
    ")\n",
    "\n",
    "contextualize_prompt = ChatPromptTemplate.from_messages([\n",
    "  (\"system\", contextualize_system_prompt),\n",
    "  MessagesPlaceholder(variable_name=\"chat_history\"),\n",
    "  (\"user\", \"{input}\"),\n",
    "  (\"system\", \"Context: {context}\")\n",
    "])"
   ]
  },
  {
   "cell_type": "code",
   "execution_count": 137,
   "metadata": {},
   "outputs": [],
   "source": [
    "\n",
    "from langchain.chains import create_history_aware_retriever\n",
    "\n",
    "create_history_retrieve_chain = create_history_aware_retriever(llm, retriver, contextualize_prompt)\n",
    "# create_history_retrieve_chain.invoke({\"input\" :\"What is the treatment of this?\", \"chat_history\" : chat_history})\n"
   ]
  },
  {
   "cell_type": "code",
   "execution_count": 139,
   "metadata": {},
   "outputs": [
    {
     "name": "stdout",
     "output_type": "stream",
     "text": [
      "How can dental trauma be prevented?\n",
      "\n",
      "Preventing dental trauma involves monitoring for potential hazards, taking child-proofing measures, and adopting safety habits. This includes wearing seat belts and securing young children in appropriate car seats, removing tripping and slipping hazards at home, and taking extra precautions for toddlers. Additionally, electrical cords should be tucked away to prevent young children from gnawing on them and receiving severe oral burns.\n"
     ]
    }
   ],
   "source": [
    "history_stuff_chain = create_stuff_documents_chain(llm, contextualize_prompt)\n",
    "history_retrieval_chain = create_retrieval_chain(create_history_retrieve_chain, history_stuff_chain)\n",
    "ans = history_retrieval_chain.invoke({\"input\" :\"What is the Prevention for this?\", \"chat_history\" : chat_history, \"context\": \"\"})\n",
    "print(ans['answer'])"
   ]
  },
  {
   "cell_type": "code",
   "execution_count": null,
   "metadata": {},
   "outputs": [],
   "source": []
  }
 ],
 "metadata": {
  "kernelspec": {
   "display_name": "medichat",
   "language": "python",
   "name": "python3"
  },
  "language_info": {
   "codemirror_mode": {
    "name": "ipython",
    "version": 3
   },
   "file_extension": ".py",
   "mimetype": "text/x-python",
   "name": "python",
   "nbconvert_exporter": "python",
   "pygments_lexer": "ipython3",
   "version": "3.12.4"
  }
 },
 "nbformat": 4,
 "nbformat_minor": 2
}
